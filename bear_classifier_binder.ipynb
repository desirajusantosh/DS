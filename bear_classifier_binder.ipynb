{
  "nbformat": 4,
  "nbformat_minor": 0,
  "metadata": {
    "colab": {
      "name": "bear_classifier_binder.ipynb",
      "provenance": [],
      "authorship_tag": "ABX9TyOIz6Ya0uRl+Vtmlo183+v1",
      "include_colab_link": true
    },
    "kernelspec": {
      "name": "python3",
      "display_name": "Python 3"
    },
    "widgets": {
      "application/vnd.jupyter.widget-state+json": {
        "32e89be7e4fb49f4a3cf97fc640dc172": {
          "model_module": "@jupyter-widgets/controls",
          "model_name": "VBoxModel",
          "state": {
            "_view_name": "VBoxView",
            "_dom_classes": [],
            "_model_name": "VBoxModel",
            "_view_module": "@jupyter-widgets/controls",
            "_model_module_version": "1.5.0",
            "_view_count": null,
            "_view_module_version": "1.5.0",
            "box_style": "",
            "layout": "IPY_MODEL_363aa3f527b7410eb81b8b74dca3514e",
            "_model_module": "@jupyter-widgets/controls",
            "children": [
              "IPY_MODEL_5fa557af4d914508bad7d889391417de",
              "IPY_MODEL_c5e3bfe8191a49bc826577e3a7399986",
              "IPY_MODEL_fe155e8dee8d489399d5cf4b78a1cb15",
              "IPY_MODEL_09a18ab600a941bcaf57694b89fc9588"
            ]
          }
        },
        "363aa3f527b7410eb81b8b74dca3514e": {
          "model_module": "@jupyter-widgets/base",
          "model_name": "LayoutModel",
          "state": {
            "_view_name": "LayoutView",
            "grid_template_rows": null,
            "right": null,
            "justify_content": null,
            "_view_module": "@jupyter-widgets/base",
            "overflow": null,
            "_model_module_version": "1.2.0",
            "_view_count": null,
            "flex_flow": null,
            "width": null,
            "min_width": null,
            "border": null,
            "align_items": null,
            "bottom": null,
            "_model_module": "@jupyter-widgets/base",
            "top": null,
            "grid_column": null,
            "overflow_y": null,
            "overflow_x": null,
            "grid_auto_flow": null,
            "grid_area": null,
            "grid_template_columns": null,
            "flex": null,
            "_model_name": "LayoutModel",
            "justify_items": null,
            "grid_row": null,
            "max_height": null,
            "align_content": null,
            "visibility": null,
            "align_self": null,
            "height": null,
            "min_height": null,
            "padding": null,
            "grid_auto_rows": null,
            "grid_gap": null,
            "max_width": null,
            "order": null,
            "_view_module_version": "1.2.0",
            "grid_template_areas": null,
            "object_position": null,
            "object_fit": null,
            "grid_auto_columns": null,
            "margin": null,
            "display": null,
            "left": null
          }
        },
        "5fa557af4d914508bad7d889391417de": {
          "model_module": "@jupyter-widgets/controls",
          "model_name": "LabelModel",
          "state": {
            "_view_name": "LabelView",
            "style": "IPY_MODEL_4c3f21a2a24d4b839620862f38750b33",
            "_dom_classes": [],
            "description": "",
            "_model_name": "LabelModel",
            "placeholder": "​",
            "_view_module": "@jupyter-widgets/controls",
            "_model_module_version": "1.5.0",
            "value": "Select your bear!",
            "_view_count": null,
            "_view_module_version": "1.5.0",
            "description_tooltip": null,
            "_model_module": "@jupyter-widgets/controls",
            "layout": "IPY_MODEL_b6a2126ad232402ab29332eedb9da2fe"
          }
        },
        "c5e3bfe8191a49bc826577e3a7399986": {
          "model_module": "@jupyter-widgets/controls",
          "model_name": "FileUploadModel",
          "state": {
            "_view_name": "FileUploadView",
            "_counter": 1,
            "style": "IPY_MODEL_e0c6b3a3c66b4bdc9be8e7a195774b4a",
            "_dom_classes": [],
            "description": "Upload",
            "multiple": false,
            "_model_name": "FileUploadModel",
            "data": [
              null
            ],
            "button_style": "",
            "_view_module": "@jupyter-widgets/controls",
            "_model_module_version": "1.5.0",
            "accept": "",
            "_view_count": null,
            "disabled": false,
            "_view_module_version": "1.5.0",
            "error": "",
            "description_tooltip": null,
            "metadata": [
              {
                "name": "khj4hlkrh4uavvbdmpdx_561e83f8-e760-4f1b-adb2-e92024f64d3e_300x.jpg",
                "type": "image/jpeg",
                "size": 15069,
                "lastModified": 1604425918304
              }
            ],
            "_model_module": "@jupyter-widgets/controls",
            "layout": "IPY_MODEL_88135e41db404de38154d1fb4dfa1aaa",
            "icon": "upload"
          }
        },
        "fe155e8dee8d489399d5cf4b78a1cb15": {
          "model_module": "@jupyter-widgets/output",
          "model_name": "OutputModel",
          "state": {
            "_view_name": "OutputView",
            "msg_id": "",
            "_dom_classes": [],
            "_model_name": "OutputModel",
            "outputs": [
              {
                "output_type": "display_data",
                "metadata": {
                  "tags": []
                },
                "image/png": "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\n",
                "text/plain": "<PIL.Image.Image image mode=RGB size=128x128 at 0x7F19217DCCC0>"
              }
            ],
            "_view_module": "@jupyter-widgets/output",
            "_model_module_version": "1.0.0",
            "_view_count": null,
            "_view_module_version": "1.0.0",
            "layout": "IPY_MODEL_04a15a85328d498dab812968a133c481",
            "_model_module": "@jupyter-widgets/output"
          }
        },
        "09a18ab600a941bcaf57694b89fc9588": {
          "model_module": "@jupyter-widgets/controls",
          "model_name": "LabelModel",
          "state": {
            "_view_name": "LabelView",
            "style": "IPY_MODEL_dd2eebcce8b6425dba09896e5c30f90a",
            "_dom_classes": [],
            "description": "",
            "_model_name": "LabelModel",
            "placeholder": "​",
            "_view_module": "@jupyter-widgets/controls",
            "_model_module_version": "1.5.0",
            "value": "Prediction: teddy; Probability: 1.0000",
            "_view_count": null,
            "_view_module_version": "1.5.0",
            "description_tooltip": null,
            "_model_module": "@jupyter-widgets/controls",
            "layout": "IPY_MODEL_e5fef7fcfbca4b729e8e0d7ffa119909"
          }
        },
        "4c3f21a2a24d4b839620862f38750b33": {
          "model_module": "@jupyter-widgets/controls",
          "model_name": "DescriptionStyleModel",
          "state": {
            "_view_name": "StyleView",
            "_model_name": "DescriptionStyleModel",
            "description_width": "",
            "_view_module": "@jupyter-widgets/base",
            "_model_module_version": "1.5.0",
            "_view_count": null,
            "_view_module_version": "1.2.0",
            "_model_module": "@jupyter-widgets/controls"
          }
        },
        "b6a2126ad232402ab29332eedb9da2fe": {
          "model_module": "@jupyter-widgets/base",
          "model_name": "LayoutModel",
          "state": {
            "_view_name": "LayoutView",
            "grid_template_rows": null,
            "right": null,
            "justify_content": null,
            "_view_module": "@jupyter-widgets/base",
            "overflow": null,
            "_model_module_version": "1.2.0",
            "_view_count": null,
            "flex_flow": null,
            "width": null,
            "min_width": null,
            "border": null,
            "align_items": null,
            "bottom": null,
            "_model_module": "@jupyter-widgets/base",
            "top": null,
            "grid_column": null,
            "overflow_y": null,
            "overflow_x": null,
            "grid_auto_flow": null,
            "grid_area": null,
            "grid_template_columns": null,
            "flex": null,
            "_model_name": "LayoutModel",
            "justify_items": null,
            "grid_row": null,
            "max_height": null,
            "align_content": null,
            "visibility": null,
            "align_self": null,
            "height": null,
            "min_height": null,
            "padding": null,
            "grid_auto_rows": null,
            "grid_gap": null,
            "max_width": null,
            "order": null,
            "_view_module_version": "1.2.0",
            "grid_template_areas": null,
            "object_position": null,
            "object_fit": null,
            "grid_auto_columns": null,
            "margin": null,
            "display": null,
            "left": null
          }
        },
        "e0c6b3a3c66b4bdc9be8e7a195774b4a": {
          "model_module": "@jupyter-widgets/controls",
          "model_name": "ButtonStyleModel",
          "state": {
            "_view_name": "StyleView",
            "_model_name": "ButtonStyleModel",
            "_view_module": "@jupyter-widgets/base",
            "_model_module_version": "1.5.0",
            "_view_count": null,
            "button_color": null,
            "font_weight": "",
            "_view_module_version": "1.2.0",
            "_model_module": "@jupyter-widgets/controls"
          }
        },
        "88135e41db404de38154d1fb4dfa1aaa": {
          "model_module": "@jupyter-widgets/base",
          "model_name": "LayoutModel",
          "state": {
            "_view_name": "LayoutView",
            "grid_template_rows": null,
            "right": null,
            "justify_content": null,
            "_view_module": "@jupyter-widgets/base",
            "overflow": null,
            "_model_module_version": "1.2.0",
            "_view_count": null,
            "flex_flow": null,
            "width": null,
            "min_width": null,
            "border": null,
            "align_items": null,
            "bottom": null,
            "_model_module": "@jupyter-widgets/base",
            "top": null,
            "grid_column": null,
            "overflow_y": null,
            "overflow_x": null,
            "grid_auto_flow": null,
            "grid_area": null,
            "grid_template_columns": null,
            "flex": null,
            "_model_name": "LayoutModel",
            "justify_items": null,
            "grid_row": null,
            "max_height": null,
            "align_content": null,
            "visibility": null,
            "align_self": null,
            "height": null,
            "min_height": null,
            "padding": null,
            "grid_auto_rows": null,
            "grid_gap": null,
            "max_width": null,
            "order": null,
            "_view_module_version": "1.2.0",
            "grid_template_areas": null,
            "object_position": null,
            "object_fit": null,
            "grid_auto_columns": null,
            "margin": null,
            "display": null,
            "left": null
          }
        },
        "dd2eebcce8b6425dba09896e5c30f90a": {
          "model_module": "@jupyter-widgets/controls",
          "model_name": "DescriptionStyleModel",
          "state": {
            "_view_name": "StyleView",
            "_model_name": "DescriptionStyleModel",
            "description_width": "",
            "_view_module": "@jupyter-widgets/base",
            "_model_module_version": "1.5.0",
            "_view_count": null,
            "_view_module_version": "1.2.0",
            "_model_module": "@jupyter-widgets/controls"
          }
        },
        "e5fef7fcfbca4b729e8e0d7ffa119909": {
          "model_module": "@jupyter-widgets/base",
          "model_name": "LayoutModel",
          "state": {
            "_view_name": "LayoutView",
            "grid_template_rows": null,
            "right": null,
            "justify_content": null,
            "_view_module": "@jupyter-widgets/base",
            "overflow": null,
            "_model_module_version": "1.2.0",
            "_view_count": null,
            "flex_flow": null,
            "width": null,
            "min_width": null,
            "border": null,
            "align_items": null,
            "bottom": null,
            "_model_module": "@jupyter-widgets/base",
            "top": null,
            "grid_column": null,
            "overflow_y": null,
            "overflow_x": null,
            "grid_auto_flow": null,
            "grid_area": null,
            "grid_template_columns": null,
            "flex": null,
            "_model_name": "LayoutModel",
            "justify_items": null,
            "grid_row": null,
            "max_height": null,
            "align_content": null,
            "visibility": null,
            "align_self": null,
            "height": null,
            "min_height": null,
            "padding": null,
            "grid_auto_rows": null,
            "grid_gap": null,
            "max_width": null,
            "order": null,
            "_view_module_version": "1.2.0",
            "grid_template_areas": null,
            "object_position": null,
            "object_fit": null,
            "grid_auto_columns": null,
            "margin": null,
            "display": null,
            "left": null
          }
        },
        "04a15a85328d498dab812968a133c481": {
          "model_module": "@jupyter-widgets/base",
          "model_name": "LayoutModel",
          "state": {
            "_view_name": "LayoutView",
            "grid_template_rows": null,
            "right": null,
            "justify_content": null,
            "_view_module": "@jupyter-widgets/base",
            "overflow": null,
            "_model_module_version": "1.2.0",
            "_view_count": null,
            "flex_flow": null,
            "width": null,
            "min_width": null,
            "border": null,
            "align_items": null,
            "bottom": null,
            "_model_module": "@jupyter-widgets/base",
            "top": null,
            "grid_column": null,
            "overflow_y": null,
            "overflow_x": null,
            "grid_auto_flow": null,
            "grid_area": null,
            "grid_template_columns": null,
            "flex": null,
            "_model_name": "LayoutModel",
            "justify_items": null,
            "grid_row": null,
            "max_height": null,
            "align_content": null,
            "visibility": null,
            "align_self": null,
            "height": null,
            "min_height": null,
            "padding": null,
            "grid_auto_rows": null,
            "grid_gap": null,
            "max_width": null,
            "order": null,
            "_view_module_version": "1.2.0",
            "grid_template_areas": null,
            "object_position": null,
            "object_fit": null,
            "grid_auto_columns": null,
            "margin": null,
            "display": null,
            "left": null
          }
        }
      }
    }
  },
  "cells": [
    {
      "cell_type": "markdown",
      "metadata": {
        "id": "view-in-github",
        "colab_type": "text"
      },
      "source": [
        "<a href=\"https://colab.research.google.com/github/desirajusantosh/DS/blob/master/bear_classifier_binder.ipynb\" target=\"_parent\"><img src=\"https://colab.research.google.com/assets/colab-badge.svg\" alt=\"Open In Colab\"/></a>"
      ]
    },
    {
      "cell_type": "code",
      "metadata": {
        "id": "0cZZHTdYU2-2",
        "outputId": "5eeaa869-6566-4b55-8b31-9b1d3da57f5f",
        "colab": {
          "base_uri": "https://localhost:8080/"
        }
      },
      "source": [
        "!pip install -Uqq fastbook\n",
        "import fastbook\n",
        "\n",
        "from fastai.vision.all import *\n",
        "from fastai.vision.widgets import *"
      ],
      "execution_count": 1,
      "outputs": [
        {
          "output_type": "stream",
          "text": [
            "\u001b[K     |████████████████████████████████| 727kB 5.0MB/s \n",
            "\u001b[K     |████████████████████████████████| 51kB 5.5MB/s \n",
            "\u001b[K     |████████████████████████████████| 194kB 24.8MB/s \n",
            "\u001b[K     |████████████████████████████████| 1.1MB 32.5MB/s \n",
            "\u001b[K     |████████████████████████████████| 51kB 6.2MB/s \n",
            "\u001b[K     |████████████████████████████████| 51kB 6.1MB/s \n",
            "\u001b[K     |████████████████████████████████| 748.8MB 21kB/s \n",
            "\u001b[K     |████████████████████████████████| 5.9MB 40.8MB/s \n",
            "\u001b[K     |████████████████████████████████| 92kB 8.4MB/s \n",
            "\u001b[K     |████████████████████████████████| 40kB 4.2MB/s \n",
            "\u001b[K     |████████████████████████████████| 51kB 5.8MB/s \n",
            "\u001b[K     |████████████████████████████████| 61kB 7.3MB/s \n",
            "\u001b[K     |████████████████████████████████| 2.6MB 39.2MB/s \n",
            "\u001b[?25h"
          ],
          "name": "stdout"
        }
      ]
    },
    {
      "cell_type": "markdown",
      "metadata": {
        "id": "xTVWw4swX2Mi"
      },
      "source": [
        "## The Amazing Bear Classifier!\n",
        "You need to know whether you're being chased by a dangerous grizzly, or a sweet teddy bear, and you need an answer fast? Then you've come to the right place. Take a pic of the potentially vicious killer, and click 'upload' to classify it. (Important: this only handles grizzly bears, black bears, and teddy bears. It will not give a sensible answer for polar bears, a bear market, a bear of a man, or hot dogs.\n",
        "\n"
      ]
    },
    {
      "cell_type": "code",
      "metadata": {
        "id": "TR4OpUybrZJx",
        "outputId": "08b88252-eede-46c2-9bdd-8110de8d5e5e",
        "colab": {
          "base_uri": "https://localhost:8080/"
        }
      },
      "source": [
        "from google.colab import drive\n",
        "drive.mount('/content/gdrive')\n",
        "!ls /content/gdrive/My\\ Drive/*.pkl"
      ],
      "execution_count": 6,
      "outputs": [
        {
          "output_type": "stream",
          "text": [
            "Mounted at /content/gdrive\n",
            "'/content/gdrive/My Drive/export_bear_classifier.pkl'\n"
          ],
          "name": "stdout"
        }
      ]
    },
    {
      "cell_type": "code",
      "metadata": {
        "id": "wRh32fXVX0VS"
      },
      "source": [
        "path = Path()\n",
        "learn_inf = load_learner('/content/gdrive/My Drive/export_bear_classifier.pkl', cpu=True)\n",
        "btn_upload = widgets.FileUpload()\n",
        "out_pl = widgets.Output()\n",
        "lbl_pred = widgets.Label()"
      ],
      "execution_count": 7,
      "outputs": []
    },
    {
      "cell_type": "code",
      "metadata": {
        "id": "uKKJifX1rwnM"
      },
      "source": [
        "def on_data_change(change):\n",
        "    lbl_pred.value = ''\n",
        "    img = PILImage.create(btn_upload.data[-1])\n",
        "    out_pl.clear_output()\n",
        "    with out_pl: display(img.to_thumb(128,128))\n",
        "    pred,pred_idx,probs = learn_inf.predict(img)\n",
        "    lbl_pred.value = f'Prediction: {pred}; Probability: {probs[pred_idx]:.04f}'"
      ],
      "execution_count": 8,
      "outputs": []
    },
    {
      "cell_type": "code",
      "metadata": {
        "id": "F14fhfu5r0gn"
      },
      "source": [
        "btn_upload.observe(on_data_change, names=['data'])"
      ],
      "execution_count": 9,
      "outputs": []
    },
    {
      "cell_type": "code",
      "metadata": {
        "id": "BloOIj51r3YA",
        "outputId": "3851d5a5-1152-4880-ca8a-ba7b00c7fdd8",
        "colab": {
          "base_uri": "https://localhost:8080/",
          "height": 241,
          "referenced_widgets": [
            "32e89be7e4fb49f4a3cf97fc640dc172",
            "363aa3f527b7410eb81b8b74dca3514e",
            "5fa557af4d914508bad7d889391417de",
            "c5e3bfe8191a49bc826577e3a7399986",
            "fe155e8dee8d489399d5cf4b78a1cb15",
            "09a18ab600a941bcaf57694b89fc9588",
            "4c3f21a2a24d4b839620862f38750b33",
            "b6a2126ad232402ab29332eedb9da2fe",
            "e0c6b3a3c66b4bdc9be8e7a195774b4a",
            "88135e41db404de38154d1fb4dfa1aaa",
            "dd2eebcce8b6425dba09896e5c30f90a",
            "e5fef7fcfbca4b729e8e0d7ffa119909",
            "04a15a85328d498dab812968a133c481"
          ]
        }
      },
      "source": [
        "display(VBox([widgets.Label('Select your bear!'), btn_upload, out_pl, lbl_pred]))"
      ],
      "execution_count": 10,
      "outputs": [
        {
          "output_type": "display_data",
          "data": {
            "application/vnd.jupyter.widget-view+json": {
              "model_id": "32e89be7e4fb49f4a3cf97fc640dc172",
              "version_minor": 0,
              "version_major": 2
            },
            "text/plain": [
              "VBox(children=(Label(value='Select your bear!'), FileUpload(value={}, description='Upload'), Output(), Label(v…"
            ]
          },
          "metadata": {
            "tags": []
          }
        },
        {
          "output_type": "display_data",
          "data": {
            "text/html": [
              ""
            ],
            "text/plain": [
              "<IPython.core.display.HTML object>"
            ]
          },
          "metadata": {
            "tags": []
          }
        }
      ]
    },
    {
      "cell_type": "code",
      "metadata": {
        "id": "iWLSWRwhr6XW",
        "outputId": "c899b758-f9cf-4f3e-c926-bb47ab654afc",
        "colab": {
          "base_uri": "https://localhost:8080/",
          "height": 17
        }
      },
      "source": [
        "from google.colab import files\n",
        "files.download('/content/gdrive/My Drive/export_bear_classifier.pkl') "
      ],
      "execution_count": 11,
      "outputs": [
        {
          "output_type": "display_data",
          "data": {
            "application/javascript": [
              "\n",
              "    async function download(id, filename, size) {\n",
              "      if (!google.colab.kernel.accessAllowed) {\n",
              "        return;\n",
              "      }\n",
              "      const div = document.createElement('div');\n",
              "      const label = document.createElement('label');\n",
              "      label.textContent = `Downloading \"${filename}\": `;\n",
              "      div.appendChild(label);\n",
              "      const progress = document.createElement('progress');\n",
              "      progress.max = size;\n",
              "      div.appendChild(progress);\n",
              "      document.body.appendChild(div);\n",
              "\n",
              "      const buffers = [];\n",
              "      let downloaded = 0;\n",
              "\n",
              "      const channel = await google.colab.kernel.comms.open(id);\n",
              "      // Send a message to notify the kernel that we're ready.\n",
              "      channel.send({})\n",
              "\n",
              "      for await (const message of channel.messages) {\n",
              "        // Send a message to notify the kernel that we're ready.\n",
              "        channel.send({})\n",
              "        if (message.buffers) {\n",
              "          for (const buffer of message.buffers) {\n",
              "            buffers.push(buffer);\n",
              "            downloaded += buffer.byteLength;\n",
              "            progress.value = downloaded;\n",
              "          }\n",
              "        }\n",
              "      }\n",
              "      const blob = new Blob(buffers, {type: 'application/binary'});\n",
              "      const a = document.createElement('a');\n",
              "      a.href = window.URL.createObjectURL(blob);\n",
              "      a.download = filename;\n",
              "      div.appendChild(a);\n",
              "      a.click();\n",
              "      div.remove();\n",
              "    }\n",
              "  "
            ],
            "text/plain": [
              "<IPython.core.display.Javascript object>"
            ]
          },
          "metadata": {
            "tags": []
          }
        },
        {
          "output_type": "display_data",
          "data": {
            "application/javascript": [
              "download(\"download_d7b7a997-23c0-4da1-aa9a-53475bf43096\", \"export_bear_classifier.pkl\", 47013622)"
            ],
            "text/plain": [
              "<IPython.core.display.Javascript object>"
            ]
          },
          "metadata": {
            "tags": []
          }
        }
      ]
    },
    {
      "cell_type": "code",
      "metadata": {
        "id": "qx5jHnY_vUZA",
        "outputId": "6274beb7-fb65-482a-fff9-0959013f8c11",
        "colab": {
          "base_uri": "https://localhost:8080/",
          "height": 1000
        }
      },
      "source": [
        "!pip install voila\n",
        "!jupyter serverextension enable voila —sys-prefix"
      ],
      "execution_count": 12,
      "outputs": [
        {
          "output_type": "stream",
          "text": [
            "Collecting voila\n",
            "\u001b[?25l  Downloading https://files.pythonhosted.org/packages/50/7d/ef470f3d3c574162bb8705b264f4cb47eac8c923f6bf1e37283f871ead6a/voila-0.2.4-py3-none-any.whl (1.9MB)\n",
            "\u001b[K     |████████████████████████████████| 1.9MB 4.3MB/s \n",
            "\u001b[?25hCollecting nbconvert<7,>=6.0.0\n",
            "\u001b[?25l  Downloading https://files.pythonhosted.org/packages/13/2f/acbe7006548f3914456ee47f97a2033b1b2f3daf921b12ac94105d87c163/nbconvert-6.0.7-py3-none-any.whl (552kB)\n",
            "\u001b[K     |████████████████████████████████| 552kB 20.1MB/s \n",
            "\u001b[?25hCollecting jupyter-server<2.0.0,>=0.3.0\n",
            "\u001b[?25l  Downloading https://files.pythonhosted.org/packages/34/3f/627202d2a042c2b1f1f4d9ebc8a932fb06e0a2dee06ebcf0bbca92011ffb/jupyter_server-1.0.5-py3-none-any.whl (196kB)\n",
            "\u001b[K     |████████████████████████████████| 204kB 15.7MB/s \n",
            "\u001b[?25hRequirement already satisfied: nbclient<0.6,>=0.4.0 in /usr/local/lib/python3.6/dist-packages (from voila) (0.5.1)\n",
            "Collecting jupyter-client<7,>=6.1.3\n",
            "\u001b[?25l  Downloading https://files.pythonhosted.org/packages/dc/41/9fa443d5ae8907dd8f7d12146cb0092dc053afd67b5b57e7e8786a328547/jupyter_client-6.1.7-py3-none-any.whl (108kB)\n",
            "\u001b[K     |████████████████████████████████| 112kB 27.6MB/s \n",
            "\u001b[?25hRequirement already satisfied: entrypoints>=0.2.2 in /usr/local/lib/python3.6/dist-packages (from nbconvert<7,>=6.0.0->voila) (0.3)\n",
            "Requirement already satisfied: mistune<2,>=0.8.1 in /usr/local/lib/python3.6/dist-packages (from nbconvert<7,>=6.0.0->voila) (0.8.4)\n",
            "Requirement already satisfied: defusedxml in /usr/local/lib/python3.6/dist-packages (from nbconvert<7,>=6.0.0->voila) (0.6.0)\n",
            "Requirement already satisfied: pygments>=2.4.1 in /usr/local/lib/python3.6/dist-packages (from nbconvert<7,>=6.0.0->voila) (2.6.1)\n",
            "Requirement already satisfied: pandocfilters>=1.4.1 in /usr/local/lib/python3.6/dist-packages (from nbconvert<7,>=6.0.0->voila) (1.4.3)\n",
            "Requirement already satisfied: nbformat>=4.4 in /usr/local/lib/python3.6/dist-packages (from nbconvert<7,>=6.0.0->voila) (5.0.8)\n",
            "Requirement already satisfied: jinja2>=2.4 in /usr/local/lib/python3.6/dist-packages (from nbconvert<7,>=6.0.0->voila) (2.11.2)\n",
            "Requirement already satisfied: testpath in /usr/local/lib/python3.6/dist-packages (from nbconvert<7,>=6.0.0->voila) (0.4.4)\n",
            "Requirement already satisfied: jupyter-core in /usr/local/lib/python3.6/dist-packages (from nbconvert<7,>=6.0.0->voila) (4.6.3)\n",
            "Requirement already satisfied: bleach in /usr/local/lib/python3.6/dist-packages (from nbconvert<7,>=6.0.0->voila) (3.2.1)\n",
            "Requirement already satisfied: traitlets>=4.2 in /usr/local/lib/python3.6/dist-packages (from nbconvert<7,>=6.0.0->voila) (4.3.3)\n",
            "Requirement already satisfied: jupyterlab-pygments in /usr/local/lib/python3.6/dist-packages (from nbconvert<7,>=6.0.0->voila) (0.1.2)\n",
            "Requirement already satisfied: terminado>=0.8.3 in /usr/local/lib/python3.6/dist-packages (from jupyter-server<2.0.0,>=0.3.0->voila) (0.9.1)\n",
            "Requirement already satisfied: prometheus-client in /usr/local/lib/python3.6/dist-packages (from jupyter-server<2.0.0,>=0.3.0->voila) (0.8.0)\n",
            "Requirement already satisfied: pyzmq>=17 in /usr/local/lib/python3.6/dist-packages (from jupyter-server<2.0.0,>=0.3.0->voila) (19.0.2)\n",
            "Requirement already satisfied: ipython-genutils in /usr/local/lib/python3.6/dist-packages (from jupyter-server<2.0.0,>=0.3.0->voila) (0.2.0)\n",
            "Requirement already satisfied: tornado>=5.0 in /usr/local/lib/python3.6/dist-packages (from jupyter-server<2.0.0,>=0.3.0->voila) (5.1.1)\n",
            "Requirement already satisfied: Send2Trash in /usr/local/lib/python3.6/dist-packages (from jupyter-server<2.0.0,>=0.3.0->voila) (1.5.0)\n",
            "Requirement already satisfied: nest-asyncio in /usr/local/lib/python3.6/dist-packages (from nbclient<0.6,>=0.4.0->voila) (1.4.2)\n",
            "Requirement already satisfied: async-generator in /usr/local/lib/python3.6/dist-packages (from nbclient<0.6,>=0.4.0->voila) (1.10)\n",
            "Requirement already satisfied: python-dateutil>=2.1 in /usr/local/lib/python3.6/dist-packages (from jupyter-client<7,>=6.1.3->voila) (2.8.1)\n",
            "Requirement already satisfied: jsonschema!=2.5.0,>=2.4 in /usr/local/lib/python3.6/dist-packages (from nbformat>=4.4->nbconvert<7,>=6.0.0->voila) (2.6.0)\n",
            "Requirement already satisfied: MarkupSafe>=0.23 in /usr/local/lib/python3.6/dist-packages (from jinja2>=2.4->nbconvert<7,>=6.0.0->voila) (1.1.1)\n",
            "Requirement already satisfied: six>=1.9.0 in /usr/local/lib/python3.6/dist-packages (from bleach->nbconvert<7,>=6.0.0->voila) (1.15.0)\n",
            "Requirement already satisfied: packaging in /usr/local/lib/python3.6/dist-packages (from bleach->nbconvert<7,>=6.0.0->voila) (20.4)\n",
            "Requirement already satisfied: webencodings in /usr/local/lib/python3.6/dist-packages (from bleach->nbconvert<7,>=6.0.0->voila) (0.5.1)\n",
            "Requirement already satisfied: decorator in /usr/local/lib/python3.6/dist-packages (from traitlets>=4.2->nbconvert<7,>=6.0.0->voila) (4.4.2)\n",
            "Requirement already satisfied: ptyprocess; os_name != \"nt\" in /usr/local/lib/python3.6/dist-packages (from terminado>=0.8.3->jupyter-server<2.0.0,>=0.3.0->voila) (0.6.0)\n",
            "Requirement already satisfied: pyparsing>=2.0.2 in /usr/local/lib/python3.6/dist-packages (from packaging->bleach->nbconvert<7,>=6.0.0->voila) (2.4.7)\n",
            "\u001b[31mERROR: nbdev 1.1.5 has requirement nbconvert<6, but you'll have nbconvert 6.0.7 which is incompatible.\u001b[0m\n",
            "Installing collected packages: nbconvert, jupyter-client, jupyter-server, voila\n",
            "  Found existing installation: nbconvert 5.6.1\n",
            "    Uninstalling nbconvert-5.6.1:\n",
            "      Successfully uninstalled nbconvert-5.6.1\n",
            "  Found existing installation: jupyter-client 5.3.5\n",
            "    Uninstalling jupyter-client-5.3.5:\n",
            "      Successfully uninstalled jupyter-client-5.3.5\n",
            "Successfully installed jupyter-client-6.1.7 jupyter-server-1.0.5 nbconvert-6.0.7 voila-0.2.4\n"
          ],
          "name": "stdout"
        },
        {
          "output_type": "display_data",
          "data": {
            "application/vnd.colab-display-data+json": {
              "pip_warning": {
                "packages": [
                  "jupyter_client",
                  "nbconvert"
                ]
              }
            }
          },
          "metadata": {
            "tags": []
          }
        },
        {
          "output_type": "stream",
          "text": [
            "Enabling: voila\n",
            "- Writing config: /root/.jupyter\n",
            "    - Validating...\n",
            "Error loading server extension voila\n",
            "     \u001b[31m X\u001b[0m is voila importable?\n",
            "Enabling: —sys-prefix\n",
            "- Writing config: /root/.jupyter\n",
            "    - Validating...\n",
            "Error loading server extension —sys-prefix\n",
            "     \u001b[31m X\u001b[0m is —sys-prefix importable?\n"
          ],
          "name": "stdout"
        }
      ]
    },
    {
      "cell_type": "code",
      "metadata": {
        "id": "w31FYUhTv21W"
      },
      "source": [
        ""
      ],
      "execution_count": null,
      "outputs": []
    }
  ]
}